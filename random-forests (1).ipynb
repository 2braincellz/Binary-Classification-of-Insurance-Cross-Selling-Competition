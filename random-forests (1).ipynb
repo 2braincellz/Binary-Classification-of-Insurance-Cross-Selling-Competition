{
 "cells": [
  {
   "cell_type": "code",
   "execution_count": 1,
   "id": "ad7af29f",
   "metadata": {
    "execution": {
     "iopub.execute_input": "2024-07-28T20:37:53.637299Z",
     "iopub.status.busy": "2024-07-28T20:37:53.636873Z",
     "iopub.status.idle": "2024-07-28T20:37:54.698123Z",
     "shell.execute_reply": "2024-07-28T20:37:54.696610Z"
    },
    "papermill": {
     "duration": 1.072647,
     "end_time": "2024-07-28T20:37:54.701392",
     "exception": false,
     "start_time": "2024-07-28T20:37:53.628745",
     "status": "completed"
    },
    "tags": []
   },
   "outputs": [],
   "source": [
    "import pandas as pd\n",
    "import numpy as np"
   ]
  },
  {
   "cell_type": "code",
   "execution_count": 2,
   "id": "661e9bd4",
   "metadata": {
    "execution": {
     "iopub.execute_input": "2024-07-28T20:37:54.716069Z",
     "iopub.status.busy": "2024-07-28T20:37:54.715516Z",
     "iopub.status.idle": "2024-07-28T20:38:20.712141Z",
     "shell.execute_reply": "2024-07-28T20:38:20.711043Z"
    },
    "papermill": {
     "duration": 26.007013,
     "end_time": "2024-07-28T20:38:20.714975",
     "exception": false,
     "start_time": "2024-07-28T20:37:54.707962",
     "status": "completed"
    },
    "tags": []
   },
   "outputs": [],
   "source": [
    "train = pd.read_csv(\"/kaggle/input/playground-series-s4e7/train.csv\")"
   ]
  },
  {
   "cell_type": "code",
   "execution_count": 3,
   "id": "c24f7f40",
   "metadata": {
    "execution": {
     "iopub.execute_input": "2024-07-28T20:38:20.729368Z",
     "iopub.status.busy": "2024-07-28T20:38:20.728964Z",
     "iopub.status.idle": "2024-07-28T20:38:36.677428Z",
     "shell.execute_reply": "2024-07-28T20:38:36.676316Z"
    },
    "papermill": {
     "duration": 15.959018,
     "end_time": "2024-07-28T20:38:36.680259",
     "exception": false,
     "start_time": "2024-07-28T20:38:20.721241",
     "status": "completed"
    },
    "tags": []
   },
   "outputs": [],
   "source": [
    "test = pd.read_csv(\"/kaggle/input/playground-series-s4e7/test.csv\")"
   ]
  },
  {
   "cell_type": "code",
   "execution_count": 4,
   "id": "5f311c7a",
   "metadata": {
    "execution": {
     "iopub.execute_input": "2024-07-28T20:38:36.694896Z",
     "iopub.status.busy": "2024-07-28T20:38:36.694435Z",
     "iopub.status.idle": "2024-07-28T20:38:38.808305Z",
     "shell.execute_reply": "2024-07-28T20:38:38.807209Z"
    },
    "papermill": {
     "duration": 2.124551,
     "end_time": "2024-07-28T20:38:38.811079",
     "exception": false,
     "start_time": "2024-07-28T20:38:36.686528",
     "status": "completed"
    },
    "tags": []
   },
   "outputs": [],
   "source": [
    "vehicle_age = {'< 1 Year': 0, '1-2 Year': 1, '> 2 Years':2}\n",
    "\n",
    "train['Vehicle_Age'] = train['Vehicle_Age'].map(vehicle_age)\n",
    "test['Vehicle_Age'] = test['Vehicle_Age'].map(vehicle_age)"
   ]
  },
  {
   "cell_type": "code",
   "execution_count": 5,
   "id": "98f31aad",
   "metadata": {
    "execution": {
     "iopub.execute_input": "2024-07-28T20:38:38.825468Z",
     "iopub.status.busy": "2024-07-28T20:38:38.825050Z",
     "iopub.status.idle": "2024-07-28T20:38:51.208045Z",
     "shell.execute_reply": "2024-07-28T20:38:51.206796Z"
    },
    "papermill": {
     "duration": 12.39368,
     "end_time": "2024-07-28T20:38:51.210971",
     "exception": false,
     "start_time": "2024-07-28T20:38:38.817291",
     "status": "completed"
    },
    "tags": []
   },
   "outputs": [],
   "source": [
    "from sklearn.model_selection import train_test_split\n",
    "\n",
    "\n",
    "X, y = train_test_split(train, stratify = train['Response'], test_size = 0.2, random_state = 42)"
   ]
  },
  {
   "cell_type": "code",
   "execution_count": 6,
   "id": "af330551",
   "metadata": {
    "execution": {
     "iopub.execute_input": "2024-07-28T20:38:51.225763Z",
     "iopub.status.busy": "2024-07-28T20:38:51.225302Z",
     "iopub.status.idle": "2024-07-28T20:38:51.979456Z",
     "shell.execute_reply": "2024-07-28T20:38:51.978148Z"
    },
    "papermill": {
     "duration": 0.765332,
     "end_time": "2024-07-28T20:38:51.982562",
     "exception": false,
     "start_time": "2024-07-28T20:38:51.217230",
     "status": "completed"
    },
    "tags": []
   },
   "outputs": [],
   "source": [
    "X_train = X.drop('Response', axis = 1)\n",
    "y_train = X['Response']\n",
    "X_test = y.drop('Response', axis = 1)\n",
    "y_test = y['Response']\n"
   ]
  },
  {
   "cell_type": "code",
   "execution_count": 7,
   "id": "08733075",
   "metadata": {
    "execution": {
     "iopub.execute_input": "2024-07-28T20:38:51.997300Z",
     "iopub.status.busy": "2024-07-28T20:38:51.996501Z",
     "iopub.status.idle": "2024-07-28T20:38:52.824816Z",
     "shell.execute_reply": "2024-07-28T20:38:52.823513Z"
    },
    "papermill": {
     "duration": 0.838765,
     "end_time": "2024-07-28T20:38:52.827659",
     "exception": false,
     "start_time": "2024-07-28T20:38:51.988894",
     "status": "completed"
    },
    "tags": []
   },
   "outputs": [],
   "source": [
    "X = train.drop(['Response', 'id'], axis = 1)\n",
    "y = train['Response']"
   ]
  },
  {
   "cell_type": "code",
   "execution_count": 8,
   "id": "f998671e",
   "metadata": {
    "execution": {
     "iopub.execute_input": "2024-07-28T20:38:52.842104Z",
     "iopub.status.busy": "2024-07-28T20:38:52.841264Z",
     "iopub.status.idle": "2024-07-28T20:39:02.958300Z",
     "shell.execute_reply": "2024-07-28T20:39:02.956995Z"
    },
    "papermill": {
     "duration": 10.127474,
     "end_time": "2024-07-28T20:39:02.961293",
     "exception": false,
     "start_time": "2024-07-28T20:38:52.833819",
     "status": "completed"
    },
    "tags": []
   },
   "outputs": [],
   "source": [
    "from sklearn.compose import ColumnTransformer\n",
    "from sklearn.preprocessing import OrdinalEncoder\n",
    "from sklearn.pipeline import make_pipeline\n",
    "from sklearn.decomposition import PCA\n",
    "from sklearn.preprocessing import StandardScaler\n",
    "\n",
    "num = ['Age', 'Driving_License', 'Region_Code', 'Previously_Insured', 'Annual_Premium', 'Policy_Sales_Channel', 'Vintage']\n",
    "cat = ['Gender', 'Vehicle_Damage']\n",
    "\n",
    "num_pipeline = make_pipeline(StandardScaler())\n",
    "\n",
    "cat_pipeline = make_pipeline(OrdinalEncoder())\n",
    "\n",
    "preprocessing = ColumnTransformer([\n",
    "    (\"cat\", cat_pipeline, cat),\n",
    "    # ('both', StandardScaler(), X_train.columns.values)\n",
    "    ],\n",
    "    \n",
    "    remainder = 'passthrough'\n",
    ")\n",
    "\n",
    "X_train_prep = preprocessing.fit_transform(X)"
   ]
  },
  {
   "cell_type": "code",
   "execution_count": 9,
   "id": "aaf9cdf6",
   "metadata": {
    "execution": {
     "iopub.execute_input": "2024-07-28T20:39:02.975667Z",
     "iopub.status.busy": "2024-07-28T20:39:02.975221Z",
     "iopub.status.idle": "2024-07-28T20:39:02.981495Z",
     "shell.execute_reply": "2024-07-28T20:39:02.980312Z"
    },
    "papermill": {
     "duration": 0.016553,
     "end_time": "2024-07-28T20:39:02.984033",
     "exception": false,
     "start_time": "2024-07-28T20:39:02.967480",
     "status": "completed"
    },
    "tags": []
   },
   "outputs": [],
   "source": [
    "X_preprocessed = pd.DataFrame(X_train_prep, columns = preprocessing.get_feature_names_out(), index = train.index)"
   ]
  },
  {
   "cell_type": "code",
   "execution_count": 10,
   "id": "6154fe1e",
   "metadata": {
    "execution": {
     "iopub.execute_input": "2024-07-28T20:39:02.998347Z",
     "iopub.status.busy": "2024-07-28T20:39:02.997534Z",
     "iopub.status.idle": "2024-07-28T20:39:03.006535Z",
     "shell.execute_reply": "2024-07-28T20:39:03.005229Z"
    },
    "papermill": {
     "duration": 0.01883,
     "end_time": "2024-07-28T20:39:03.008998",
     "exception": false,
     "start_time": "2024-07-28T20:39:02.990168",
     "status": "completed"
    },
    "tags": []
   },
   "outputs": [
    {
     "data": {
      "text/plain": [
       "Index(['cat__Gender', 'cat__Vehicle_Damage', 'remainder__Age',\n",
       "       'remainder__Driving_License', 'remainder__Region_Code',\n",
       "       'remainder__Previously_Insured', 'remainder__Vehicle_Age',\n",
       "       'remainder__Annual_Premium', 'remainder__Policy_Sales_Channel',\n",
       "       'remainder__Vintage'],\n",
       "      dtype='object')"
      ]
     },
     "execution_count": 10,
     "metadata": {},
     "output_type": "execute_result"
    }
   ],
   "source": [
    "X_preprocessed.columns"
   ]
  },
  {
   "cell_type": "code",
   "execution_count": 11,
   "id": "6ef90e6d",
   "metadata": {
    "execution": {
     "iopub.execute_input": "2024-07-28T20:39:03.023541Z",
     "iopub.status.busy": "2024-07-28T20:39:03.023129Z",
     "iopub.status.idle": "2024-07-28T20:39:03.028581Z",
     "shell.execute_reply": "2024-07-28T20:39:03.027290Z"
    },
    "papermill": {
     "duration": 0.015824,
     "end_time": "2024-07-28T20:39:03.031198",
     "exception": false,
     "start_time": "2024-07-28T20:39:03.015374",
     "status": "completed"
    },
    "tags": []
   },
   "outputs": [],
   "source": [
    "# from sklearn.model_selection import GridSearchCV, RandomizedSearchCV\n",
    "# from sklearn.ensemble import RandomForestClassifier\n",
    "\n",
    "# params = {\n",
    "#     'max_depth' : np.linspace(3,7, 5, dtype = np.uint8),\n",
    "#     'max_leaf_nodes' : np.linspace(50,200,150, dtype = np.uint8),\n",
    "#     'min_samples_split' : [2,3,4,5]\n",
    "# }\n",
    "\n",
    "# rnd_search = RandomizedSearchCV(\n",
    "#     RandomForestClassifier(n_estimators = 10, random_state = 42, n_jobs = -1), params, n_iter = 60, cv = 3\n",
    "# )"
   ]
  },
  {
   "cell_type": "code",
   "execution_count": 12,
   "id": "cf397223",
   "metadata": {
    "execution": {
     "iopub.execute_input": "2024-07-28T20:39:03.045630Z",
     "iopub.status.busy": "2024-07-28T20:39:03.045242Z",
     "iopub.status.idle": "2024-07-28T20:39:03.050035Z",
     "shell.execute_reply": "2024-07-28T20:39:03.048820Z"
    },
    "papermill": {
     "duration": 0.015075,
     "end_time": "2024-07-28T20:39:03.052700",
     "exception": false,
     "start_time": "2024-07-28T20:39:03.037625",
     "status": "completed"
    },
    "tags": []
   },
   "outputs": [],
   "source": [
    "# rnd_search.fit(X_preprocessed, y)"
   ]
  },
  {
   "cell_type": "code",
   "execution_count": 13,
   "id": "f375baf1",
   "metadata": {
    "execution": {
     "iopub.execute_input": "2024-07-28T20:39:03.067870Z",
     "iopub.status.busy": "2024-07-28T20:39:03.067399Z",
     "iopub.status.idle": "2024-07-28T20:39:03.073102Z",
     "shell.execute_reply": "2024-07-28T20:39:03.071829Z"
    },
    "papermill": {
     "duration": 0.016533,
     "end_time": "2024-07-28T20:39:03.075697",
     "exception": false,
     "start_time": "2024-07-28T20:39:03.059164",
     "status": "completed"
    },
    "tags": []
   },
   "outputs": [],
   "source": [
    "# pipeline = make_pipeline(preprocessing, rnd_search.best_estimator_)\n",
    "\n",
    "# pipeline.fit(X, y)"
   ]
  },
  {
   "cell_type": "code",
   "execution_count": 14,
   "id": "d92b7d3f",
   "metadata": {
    "execution": {
     "iopub.execute_input": "2024-07-28T20:39:03.090394Z",
     "iopub.status.busy": "2024-07-28T20:39:03.089962Z",
     "iopub.status.idle": "2024-07-28T20:39:03.328020Z",
     "shell.execute_reply": "2024-07-28T20:39:03.326663Z"
    },
    "papermill": {
     "duration": 0.248833,
     "end_time": "2024-07-28T20:39:03.331058",
     "exception": false,
     "start_time": "2024-07-28T20:39:03.082225",
     "status": "completed"
    },
    "tags": []
   },
   "outputs": [],
   "source": [
    "from sklearn.ensemble import RandomForestClassifier\n",
    "\n",
    "\n",
    "rf_clf = RandomForestClassifier(max_depth=6, max_leaf_nodes=87, min_samples_split=4,\n",
    "                       random_state=42, n_estimators = 300, n_jobs = -1)"
   ]
  },
  {
   "cell_type": "code",
   "execution_count": 15,
   "id": "d588ed1d",
   "metadata": {
    "execution": {
     "iopub.execute_input": "2024-07-28T20:39:03.346224Z",
     "iopub.status.busy": "2024-07-28T20:39:03.345801Z",
     "iopub.status.idle": "2024-07-28T21:12:23.676407Z",
     "shell.execute_reply": "2024-07-28T21:12:23.673705Z"
    },
    "papermill": {
     "duration": 2000.34499,
     "end_time": "2024-07-28T21:12:23.682786",
     "exception": false,
     "start_time": "2024-07-28T20:39:03.337796",
     "status": "completed"
    },
    "tags": []
   },
   "outputs": [],
   "source": [
    "pipeline = make_pipeline(preprocessing, rf_clf)\n",
    "pipeline.fit(X, y)\n",
    "\n",
    "\n",
    "ids = test['id']\n",
    "test = test.drop('id', axis = 1)"
   ]
  },
  {
   "cell_type": "code",
   "execution_count": 16,
   "id": "caef3672",
   "metadata": {
    "execution": {
     "iopub.execute_input": "2024-07-28T21:12:23.702771Z",
     "iopub.status.busy": "2024-07-28T21:12:23.702246Z",
     "iopub.status.idle": "2024-07-28T21:13:39.049262Z",
     "shell.execute_reply": "2024-07-28T21:13:39.047820Z"
    },
    "papermill": {
     "duration": 75.360707,
     "end_time": "2024-07-28T21:13:39.053207",
     "exception": false,
     "start_time": "2024-07-28T21:12:23.692500",
     "status": "completed"
    },
    "tags": []
   },
   "outputs": [],
   "source": [
    "y_pred = pipeline.predict_proba(test)"
   ]
  },
  {
   "cell_type": "code",
   "execution_count": 17,
   "id": "bb9d95de",
   "metadata": {
    "execution": {
     "iopub.execute_input": "2024-07-28T21:13:39.069394Z",
     "iopub.status.busy": "2024-07-28T21:13:39.068948Z",
     "iopub.status.idle": "2024-07-28T21:13:39.140659Z",
     "shell.execute_reply": "2024-07-28T21:13:39.139156Z"
    },
    "papermill": {
     "duration": 0.083291,
     "end_time": "2024-07-28T21:13:39.143842",
     "exception": false,
     "start_time": "2024-07-28T21:13:39.060551",
     "status": "completed"
    },
    "tags": []
   },
   "outputs": [],
   "source": [
    "ans = pd.DataFrame({'id': ids, 'Response' : y_pred[:,1]})"
   ]
  },
  {
   "cell_type": "code",
   "execution_count": 18,
   "id": "12abdd5d",
   "metadata": {
    "execution": {
     "iopub.execute_input": "2024-07-28T21:13:39.159526Z",
     "iopub.status.busy": "2024-07-28T21:13:39.159093Z",
     "iopub.status.idle": "2024-07-28T21:14:05.763126Z",
     "shell.execute_reply": "2024-07-28T21:14:05.761837Z"
    },
    "papermill": {
     "duration": 26.61529,
     "end_time": "2024-07-28T21:14:05.766120",
     "exception": false,
     "start_time": "2024-07-28T21:13:39.150830",
     "status": "completed"
    },
    "tags": []
   },
   "outputs": [],
   "source": [
    "ans.to_csv(\"Random Forest.csv\", index = False)"
   ]
  }
 ],
 "metadata": {
  "kaggle": {
   "accelerator": "none",
   "dataSources": [
    {
     "databundleVersionId": 8930475,
     "sourceId": 73291,
     "sourceType": "competition"
    }
   ],
   "dockerImageVersionId": 30746,
   "isGpuEnabled": false,
   "isInternetEnabled": true,
   "language": "python",
   "sourceType": "notebook"
  },
  "kernelspec": {
   "display_name": "Python 3",
   "language": "python",
   "name": "python3"
  },
  "language_info": {
   "codemirror_mode": {
    "name": "ipython",
    "version": 3
   },
   "file_extension": ".py",
   "mimetype": "text/x-python",
   "name": "python",
   "nbconvert_exporter": "python",
   "pygments_lexer": "ipython3",
   "version": "3.10.13"
  },
  "papermill": {
   "default_parameters": {},
   "duration": 2176.97004,
   "end_time": "2024-07-28T21:14:07.307312",
   "environment_variables": {},
   "exception": null,
   "input_path": "__notebook__.ipynb",
   "output_path": "__notebook__.ipynb",
   "parameters": {},
   "start_time": "2024-07-28T20:37:50.337272",
   "version": "2.5.0"
  }
 },
 "nbformat": 4,
 "nbformat_minor": 5
}
